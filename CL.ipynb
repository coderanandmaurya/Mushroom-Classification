{
 "cells": [
  {
   "cell_type": "code",
   "execution_count": 1,
   "id": "8194c74e",
   "metadata": {},
   "outputs": [],
   "source": [
    "import pandas as pd\n",
    "import numpy as np\n",
    "import matplotlib.pyplot as plt\n",
    "import seaborn as sns\n",
    "from sklearn.compose import ColumnTransformer\n",
    "from sklearn.preprocessing import LabelEncoder\n",
    "from sklearn.preprocessing import OrdinalEncoder\n",
    "from sklearn.feature_selection import SelectKBest,chi2\n",
    "from sklearn.ensemble import RandomForestClassifier\n",
    "from sklearn.pipeline import Pipeline"
   ]
  },
  {
   "cell_type": "code",
   "execution_count": 2,
   "id": "70aae80c",
   "metadata": {},
   "outputs": [],
   "source": [
    "data=pd.read_csv('mushrooms.csv')"
   ]
  },
  {
   "cell_type": "code",
   "execution_count": 3,
   "id": "c44c79b4",
   "metadata": {},
   "outputs": [
    {
     "data": {
      "text/html": [
       "<div>\n",
       "<style scoped>\n",
       "    .dataframe tbody tr th:only-of-type {\n",
       "        vertical-align: middle;\n",
       "    }\n",
       "\n",
       "    .dataframe tbody tr th {\n",
       "        vertical-align: top;\n",
       "    }\n",
       "\n",
       "    .dataframe thead th {\n",
       "        text-align: right;\n",
       "    }\n",
       "</style>\n",
       "<table border=\"1\" class=\"dataframe\">\n",
       "  <thead>\n",
       "    <tr style=\"text-align: right;\">\n",
       "      <th></th>\n",
       "      <th>class</th>\n",
       "      <th>cap-shape</th>\n",
       "      <th>cap-surface</th>\n",
       "      <th>cap-color</th>\n",
       "      <th>bruises</th>\n",
       "      <th>odor</th>\n",
       "      <th>gill-attachment</th>\n",
       "      <th>gill-spacing</th>\n",
       "      <th>gill-size</th>\n",
       "      <th>gill-color</th>\n",
       "      <th>...</th>\n",
       "      <th>stalk-surface-below-ring</th>\n",
       "      <th>stalk-color-above-ring</th>\n",
       "      <th>stalk-color-below-ring</th>\n",
       "      <th>veil-type</th>\n",
       "      <th>veil-color</th>\n",
       "      <th>ring-number</th>\n",
       "      <th>ring-type</th>\n",
       "      <th>spore-print-color</th>\n",
       "      <th>population</th>\n",
       "      <th>habitat</th>\n",
       "    </tr>\n",
       "  </thead>\n",
       "  <tbody>\n",
       "    <tr>\n",
       "      <th>0</th>\n",
       "      <td>p</td>\n",
       "      <td>x</td>\n",
       "      <td>s</td>\n",
       "      <td>n</td>\n",
       "      <td>t</td>\n",
       "      <td>p</td>\n",
       "      <td>f</td>\n",
       "      <td>c</td>\n",
       "      <td>n</td>\n",
       "      <td>k</td>\n",
       "      <td>...</td>\n",
       "      <td>s</td>\n",
       "      <td>w</td>\n",
       "      <td>w</td>\n",
       "      <td>p</td>\n",
       "      <td>w</td>\n",
       "      <td>o</td>\n",
       "      <td>p</td>\n",
       "      <td>k</td>\n",
       "      <td>s</td>\n",
       "      <td>u</td>\n",
       "    </tr>\n",
       "    <tr>\n",
       "      <th>1</th>\n",
       "      <td>e</td>\n",
       "      <td>x</td>\n",
       "      <td>s</td>\n",
       "      <td>y</td>\n",
       "      <td>t</td>\n",
       "      <td>a</td>\n",
       "      <td>f</td>\n",
       "      <td>c</td>\n",
       "      <td>b</td>\n",
       "      <td>k</td>\n",
       "      <td>...</td>\n",
       "      <td>s</td>\n",
       "      <td>w</td>\n",
       "      <td>w</td>\n",
       "      <td>p</td>\n",
       "      <td>w</td>\n",
       "      <td>o</td>\n",
       "      <td>p</td>\n",
       "      <td>n</td>\n",
       "      <td>n</td>\n",
       "      <td>g</td>\n",
       "    </tr>\n",
       "    <tr>\n",
       "      <th>2</th>\n",
       "      <td>e</td>\n",
       "      <td>b</td>\n",
       "      <td>s</td>\n",
       "      <td>w</td>\n",
       "      <td>t</td>\n",
       "      <td>l</td>\n",
       "      <td>f</td>\n",
       "      <td>c</td>\n",
       "      <td>b</td>\n",
       "      <td>n</td>\n",
       "      <td>...</td>\n",
       "      <td>s</td>\n",
       "      <td>w</td>\n",
       "      <td>w</td>\n",
       "      <td>p</td>\n",
       "      <td>w</td>\n",
       "      <td>o</td>\n",
       "      <td>p</td>\n",
       "      <td>n</td>\n",
       "      <td>n</td>\n",
       "      <td>m</td>\n",
       "    </tr>\n",
       "    <tr>\n",
       "      <th>3</th>\n",
       "      <td>p</td>\n",
       "      <td>x</td>\n",
       "      <td>y</td>\n",
       "      <td>w</td>\n",
       "      <td>t</td>\n",
       "      <td>p</td>\n",
       "      <td>f</td>\n",
       "      <td>c</td>\n",
       "      <td>n</td>\n",
       "      <td>n</td>\n",
       "      <td>...</td>\n",
       "      <td>s</td>\n",
       "      <td>w</td>\n",
       "      <td>w</td>\n",
       "      <td>p</td>\n",
       "      <td>w</td>\n",
       "      <td>o</td>\n",
       "      <td>p</td>\n",
       "      <td>k</td>\n",
       "      <td>s</td>\n",
       "      <td>u</td>\n",
       "    </tr>\n",
       "    <tr>\n",
       "      <th>4</th>\n",
       "      <td>e</td>\n",
       "      <td>x</td>\n",
       "      <td>s</td>\n",
       "      <td>g</td>\n",
       "      <td>f</td>\n",
       "      <td>n</td>\n",
       "      <td>f</td>\n",
       "      <td>w</td>\n",
       "      <td>b</td>\n",
       "      <td>k</td>\n",
       "      <td>...</td>\n",
       "      <td>s</td>\n",
       "      <td>w</td>\n",
       "      <td>w</td>\n",
       "      <td>p</td>\n",
       "      <td>w</td>\n",
       "      <td>o</td>\n",
       "      <td>e</td>\n",
       "      <td>n</td>\n",
       "      <td>a</td>\n",
       "      <td>g</td>\n",
       "    </tr>\n",
       "  </tbody>\n",
       "</table>\n",
       "<p>5 rows × 23 columns</p>\n",
       "</div>"
      ],
      "text/plain": [
       "  class cap-shape cap-surface cap-color bruises odor gill-attachment  \\\n",
       "0     p         x           s         n       t    p               f   \n",
       "1     e         x           s         y       t    a               f   \n",
       "2     e         b           s         w       t    l               f   \n",
       "3     p         x           y         w       t    p               f   \n",
       "4     e         x           s         g       f    n               f   \n",
       "\n",
       "  gill-spacing gill-size gill-color  ... stalk-surface-below-ring  \\\n",
       "0            c         n          k  ...                        s   \n",
       "1            c         b          k  ...                        s   \n",
       "2            c         b          n  ...                        s   \n",
       "3            c         n          n  ...                        s   \n",
       "4            w         b          k  ...                        s   \n",
       "\n",
       "  stalk-color-above-ring stalk-color-below-ring veil-type veil-color  \\\n",
       "0                      w                      w         p          w   \n",
       "1                      w                      w         p          w   \n",
       "2                      w                      w         p          w   \n",
       "3                      w                      w         p          w   \n",
       "4                      w                      w         p          w   \n",
       "\n",
       "  ring-number ring-type spore-print-color population habitat  \n",
       "0           o         p                 k          s       u  \n",
       "1           o         p                 n          n       g  \n",
       "2           o         p                 n          n       m  \n",
       "3           o         p                 k          s       u  \n",
       "4           o         e                 n          a       g  \n",
       "\n",
       "[5 rows x 23 columns]"
      ]
     },
     "execution_count": 3,
     "metadata": {},
     "output_type": "execute_result"
    }
   ],
   "source": [
    "data.head()"
   ]
  },
  {
   "cell_type": "markdown",
   "id": "42c55e17",
   "metadata": {},
   "source": [
    "# Mushroom Structure\n",
    "<img src=\"g.jpg\" width=\"240\" height=\"240\" align=\"center\"/>"
   ]
  },
  {
   "cell_type": "markdown",
   "id": "067f9b7e",
   "metadata": {},
   "source": [
    "# Attribute Information: \n",
    "## classes: \n",
    "- edible=e, poisonous=p\n",
    "\n",
    "# 1. CAP\n",
    "\n",
    "   **cap-shape** :bell=b, conical=c, convex=x, flat=f, knobbed=k, sunken=s\n",
    "\n",
    "   **cap-surface**  : fibrous=f, grooves=g, scaly=y, smooth=s\n",
    "\n",
    "   **cap-color** : brown=n, buff=b, cinnamon=c, gray=g, green=r, pink=p, purple=u, red=e, white=w, yellow=y\n",
    "\n",
    "# 2. BRUISES\n",
    "\n",
    "   **bruises** : bruises=t, no=f\n",
    "\n",
    "\n",
    "# 3. ODOR\n",
    "\n",
    "   **odor** :almond=a, anise=l, creosote=c, fishy=y, foul=f, musty=m, none=n, pungent=p, spicy=s\n",
    "\n",
    "\n",
    "# 4. GILL\n",
    "\n",
    "   **gill-attachment** : attached=a, descending=d, free=f, notched=n\n",
    "\n",
    "   **gill-spacing** : close=c, crowded=w, distant=d\n",
    "\n",
    "   **gill-size** : broad=b, narrow=n\n",
    "\n",
    "   **gill-color** : black=k, brown=n, buff=b, chocolate=h, gray=g, green=r, orange=o, pink=p, purple=u, red=e, white=w, yellow=y\n",
    "\n",
    "# 5. STALK\n",
    "\n",
    "   **stalk-shape** : enlarging=e, tapering=t\n",
    "\n",
    "   **stalk-root** : bulbous=b, club=c, cup=u, equal=e, rhizomorphs=z, rooted=r, missing=?\n",
    "   \n",
    "   **stalk-surface-above-ring** : fibrous=f, scaly=y, silky=k, smooth=s\n",
    "\n",
    "   **stalk-surface-below-ring** : fibrous=f, scaly=y, silky=k, smooth=s\n",
    "\n",
    "   **stalk-color-above-ring** : brown=n, buff=b, cinnamon=c, gray=g, orange=o, pink=p, red=e, white=w, yellow=y\n",
    "   \n",
    "   **stalk-color-below-ring** : brown=n, buff=b, cinnamon=c, gray=g, orange=o, pink=p, red=e, white=w, yellow=y\n",
    "\n",
    "# 6. Veil\n",
    "\n",
    "   **veil-type** : partial=p, universal=u\n",
    "\n",
    "   **veil-color** : brown=n, orange=o, white=w, yellow=y\n",
    "\n",
    "\n",
    "# 7. Ring\n",
    "\n",
    "   **ring-number** : none=n, one=o, two=t\n",
    "    \n",
    "   **ring-type** : cobwebby=c, evanescent=e, flaring=f, large=l, none=n, pendant=p, sheathing=s, zone=z\n",
    "\n",
    "# 8. SPORE\n",
    "\n",
    "   **spore-print-color** : black=k, brown=n, buff=b, chocolate=h, green=r, orange=o, purple=u, white=w, yellow=y\n",
    "\n",
    "# 9. POPULATION\n",
    "\n",
    "   **population** : abundant=a, clustered=c, numerous=n, scattered=s, several=v, solitary=y\n",
    "\n",
    "# 10. HABITAT\n",
    "\n",
    "   **habitat** : grasses=g, leaves=l, meadows=m, paths=p, urban=u, waste=w, woods=d"
   ]
  },
  {
   "cell_type": "markdown",
   "id": "8d4fa38a",
   "metadata": {},
   "source": [
    "# EDA"
   ]
  },
  {
   "cell_type": "code",
   "execution_count": 4,
   "id": "0c1038b2",
   "metadata": {
    "scrolled": true
   },
   "outputs": [
    {
     "data": {
      "text/plain": [
       "class                       0\n",
       "cap-shape                   0\n",
       "cap-surface                 0\n",
       "cap-color                   0\n",
       "bruises                     0\n",
       "odor                        0\n",
       "gill-attachment             0\n",
       "gill-spacing                0\n",
       "gill-size                   0\n",
       "gill-color                  0\n",
       "stalk-shape                 0\n",
       "stalk-root                  0\n",
       "stalk-surface-above-ring    0\n",
       "stalk-surface-below-ring    0\n",
       "stalk-color-above-ring      0\n",
       "stalk-color-below-ring      0\n",
       "veil-type                   0\n",
       "veil-color                  0\n",
       "ring-number                 0\n",
       "ring-type                   0\n",
       "spore-print-color           0\n",
       "population                  0\n",
       "habitat                     0\n",
       "dtype: int64"
      ]
     },
     "execution_count": 4,
     "metadata": {},
     "output_type": "execute_result"
    }
   ],
   "source": [
    "data.isnull().sum()"
   ]
  },
  {
   "cell_type": "code",
   "execution_count": 5,
   "id": "cff06c47",
   "metadata": {},
   "outputs": [
    {
     "name": "stdout",
     "output_type": "stream",
     "text": [
      "<class 'pandas.core.frame.DataFrame'>\n",
      "RangeIndex: 8124 entries, 0 to 8123\n",
      "Data columns (total 23 columns):\n",
      " #   Column                    Non-Null Count  Dtype \n",
      "---  ------                    --------------  ----- \n",
      " 0   class                     8124 non-null   object\n",
      " 1   cap-shape                 8124 non-null   object\n",
      " 2   cap-surface               8124 non-null   object\n",
      " 3   cap-color                 8124 non-null   object\n",
      " 4   bruises                   8124 non-null   object\n",
      " 5   odor                      8124 non-null   object\n",
      " 6   gill-attachment           8124 non-null   object\n",
      " 7   gill-spacing              8124 non-null   object\n",
      " 8   gill-size                 8124 non-null   object\n",
      " 9   gill-color                8124 non-null   object\n",
      " 10  stalk-shape               8124 non-null   object\n",
      " 11  stalk-root                8124 non-null   object\n",
      " 12  stalk-surface-above-ring  8124 non-null   object\n",
      " 13  stalk-surface-below-ring  8124 non-null   object\n",
      " 14  stalk-color-above-ring    8124 non-null   object\n",
      " 15  stalk-color-below-ring    8124 non-null   object\n",
      " 16  veil-type                 8124 non-null   object\n",
      " 17  veil-color                8124 non-null   object\n",
      " 18  ring-number               8124 non-null   object\n",
      " 19  ring-type                 8124 non-null   object\n",
      " 20  spore-print-color         8124 non-null   object\n",
      " 21  population                8124 non-null   object\n",
      " 22  habitat                   8124 non-null   object\n",
      "dtypes: object(23)\n",
      "memory usage: 1.4+ MB\n"
     ]
    }
   ],
   "source": [
    "data.info()"
   ]
  },
  {
   "cell_type": "markdown",
   "id": "14ad1060",
   "metadata": {},
   "source": [
    "# Data Analysis"
   ]
  },
  {
   "cell_type": "code",
   "execution_count": 6,
   "id": "4aed7dc9",
   "metadata": {},
   "outputs": [
    {
     "data": {
      "text/plain": [
       "e    4208\n",
       "p    3916\n",
       "Name: class, dtype: int64"
      ]
     },
     "execution_count": 6,
     "metadata": {},
     "output_type": "execute_result"
    }
   ],
   "source": [
    "data['class'].value_counts()"
   ]
  },
  {
   "cell_type": "code",
   "execution_count": 7,
   "id": "49cb832e",
   "metadata": {},
   "outputs": [
    {
     "data": {
      "image/png": "[encoded data removed]",
      "text/plain": [
       "<Figure size 432x288 with 1 Axes>"
      ]
     },
     "metadata": {},
     "output_type": "display_data"
    }
   ],
   "source": [
    "#1 is p and 0 is E\n",
    "plt.pie(data['class'].value_counts(), labels=['poisonous','edible'],autopct=\"%0.2f\")\n",
    "plt.show()"
   ]
  },
  {
   "cell_type": "markdown",
   "id": "499f4ef6",
   "metadata": {},
   "source": [
    "**if mushroom has odor almond, anise and none then you can eat**"
   ]
  },
  {
   "cell_type": "code",
   "execution_count": 8,
   "id": "976fff80",
   "metadata": {},
   "outputs": [],
   "source": [
    "def CPlot(CN):\n",
    "    sns.histplot(data=data, x=CN, hue=\"class\", multiple=\"dodge\")\n",
    "    plt.xlabel(CN,fontsize=15)\n",
    "    plt.ylabel('mushroom poisonous',fontsize=15)\n",
    "    plt.show()"
   ]
  },
  {
   "cell_type": "markdown",
   "id": "f6646434",
   "metadata": {},
   "source": [
    "# bruises"
   ]
  },
  {
   "cell_type": "code",
   "execution_count": 9,
   "id": "8f2c8797",
   "metadata": {},
   "outputs": [
    {
     "data": {
      "image/png": "[encoded data removed]",
      "text/plain": [
       "<Figure size 432x288 with 1 Axes>"
      ]
     },
     "metadata": {
      "needs_background": "light"
     },
     "output_type": "display_data"
    }
   ],
   "source": [
    "CPlot(data.columns[4])"
   ]
  },
  {
   "cell_type": "markdown",
   "id": "7b7d5602",
   "metadata": {},
   "source": [
    "# Cap Shape"
   ]
  },
  {
   "cell_type": "code",
   "execution_count": 10,
   "id": "714ac875",
   "metadata": {},
   "outputs": [
    {
     "data": {
      "image/png": "[encoded data removed]",
      "text/plain": [
       "<Figure size 432x288 with 1 Axes>"
      ]
     },
     "metadata": {
      "needs_background": "light"
     },
     "output_type": "display_data"
    }
   ],
   "source": [
    "CPlot(data.columns[1])"
   ]
  },
  {
   "cell_type": "markdown",
   "id": "e363e261",
   "metadata": {},
   "source": [
    "# cap-surface"
   ]
  },
  {
   "cell_type": "code",
   "execution_count": 11,
   "id": "50732620",
   "metadata": {},
   "outputs": [
    {
     "data": {
      "image/png": "[encoded data removed]",
      "text/plain": [
       "<Figure size 432x288 with 1 Axes>"
      ]
     },
     "metadata": {
      "needs_background": "light"
     },
     "output_type": "display_data"
    }
   ],
   "source": [
    "CPlot(data.columns[2])"
   ]
  },
  {
   "cell_type": "markdown",
   "id": "5782857f",
   "metadata": {},
   "source": [
    "# cap-color"
   ]
  },
  {
   "cell_type": "code",
   "execution_count": 12,
   "id": "dd09f247",
   "metadata": {},
   "outputs": [
    {
     "data": {
      "image/png": "[encoded data removed]",
      "text/plain": [
       "<Figure size 432x288 with 1 Axes>"
      ]
     },
     "metadata": {
      "needs_background": "light"
     },
     "output_type": "display_data"
    }
   ],
   "source": [
    "CPlot(data.columns[3])"
   ]
  },
  {
   "cell_type": "markdown",
   "id": "27cdb06e",
   "metadata": {},
   "source": [
    "# Odor"
   ]
  },
  {
   "cell_type": "code",
   "execution_count": 13,
   "id": "1684f892",
   "metadata": {},
   "outputs": [
    {
     "data": {
      "image/png": "[encoded data removed]",
      "text/plain": [
       "<Figure size 432x288 with 1 Axes>"
      ]
     },
     "metadata": {
      "needs_background": "light"
     },
     "output_type": "display_data"
    }
   ],
   "source": [
    "CPlot(data.columns[5])"
   ]
  },
  {
   "cell_type": "markdown",
   "id": "097cb2d2",
   "metadata": {},
   "source": [
    "# gill-attachment"
   ]
  },
  {
   "cell_type": "code",
   "execution_count": 14,
   "id": "4dfb7d01",
   "metadata": {},
   "outputs": [
    {
     "data": {
      "image/png": "[encoded data removed]",
      "text/plain": [
       "<Figure size 432x288 with 1 Axes>"
      ]
     },
     "metadata": {
      "needs_background": "light"
     },
     "output_type": "display_data"
    }
   ],
   "source": [
    "CPlot(data.columns[6])"
   ]
  },
  {
   "cell_type": "markdown",
   "id": "bda3d062",
   "metadata": {},
   "source": [
    "# gill-spacing"
   ]
  },
  {
   "cell_type": "code",
   "execution_count": 15,
   "id": "23e088cf",
   "metadata": {},
   "outputs": [
    {
     "data": {
      "image/png": "[encoded data removed]",
      "text/plain": [
       "<Figure size 432x288 with 1 Axes>"
      ]
     },
     "metadata": {
      "needs_background": "light"
     },
     "output_type": "display_data"
    }
   ],
   "source": [
    "CPlot(data.columns[7])"
   ]
  },
  {
   "cell_type": "markdown",
   "id": "e7665b52",
   "metadata": {},
   "source": [
    "# gill-size"
   ]
  },
  {
   "cell_type": "code",
   "execution_count": 16,
   "id": "238b2a2c",
   "metadata": {},
   "outputs": [
    {
     "data": {
      "image/png": "[encoded data removed]",
      "text/plain": [
       "<Figure size 432x288 with 1 Axes>"
      ]
     },
     "metadata": {
      "needs_background": "light"
     },
     "output_type": "display_data"
    }
   ],
   "source": [
    "CPlot(data.columns[8])"
   ]
  },
  {
   "cell_type": "markdown",
   "id": "e5f5fd7b",
   "metadata": {},
   "source": [
    "# gill-color"
   ]
  },
  {
   "cell_type": "code",
   "execution_count": 17,
   "id": "d923eed9",
   "metadata": {},
   "outputs": [
    {
     "data": {
      "image/png": "[encoded data removed]",
      "text/plain": [
       "<Figure size 432x288 with 1 Axes>"
      ]
     },
     "metadata": {
      "needs_background": "light"
     },
     "output_type": "display_data"
    }
   ],
   "source": [
    "CPlot(data.columns[9])"
   ]
  },
  {
   "cell_type": "markdown",
   "id": "04f3c616",
   "metadata": {},
   "source": [
    "# Habitat"
   ]
  },
  {
   "cell_type": "code",
   "execution_count": 18,
   "id": "127359bb",
   "metadata": {},
   "outputs": [
    {
     "data": {
      "image/png": "[encoded data removed]",
      "text/plain": [
       "<Figure size 432x288 with 1 Axes>"
      ]
     },
     "metadata": {
      "needs_background": "light"
     },
     "output_type": "display_data"
    }
   ],
   "source": [
    "CPlot(data.columns[22])"
   ]
  },
  {
   "cell_type": "markdown",
   "id": "ef497278",
   "metadata": {},
   "source": [
    "# Stalk shape"
   ]
  },
  {
   "cell_type": "code",
   "execution_count": 19,
   "id": "884c5489",
   "metadata": {},
   "outputs": [
    {
     "data": {
      "image/png": "[encoded data removed]",
      "text/plain": [
       "<Figure size 432x288 with 1 Axes>"
      ]
     },
     "metadata": {
      "needs_background": "light"
     },
     "output_type": "display_data"
    }
   ],
   "source": [
    "CPlot(data.columns[10])"
   ]
  },
  {
   "cell_type": "markdown",
   "id": "764f1769",
   "metadata": {},
   "source": [
    "# Stalk-Root"
   ]
  },
  {
   "cell_type": "code",
   "execution_count": 20,
   "id": "306ac56c",
   "metadata": {},
   "outputs": [
    {
     "data": {
      "image/png": "[encoded data removed]",
      "text/plain": [
       "<Figure size 432x288 with 1 Axes>"
      ]
     },
     "metadata": {
      "needs_background": "light"
     },
     "output_type": "display_data"
    }
   ],
   "source": [
    "CPlot(data.columns[11])"
   ]
  },
  {
   "cell_type": "markdown",
   "id": "0ff2ca5f",
   "metadata": {},
   "source": [
    "# Stalk-Surface-Above-ring"
   ]
  },
  {
   "cell_type": "code",
   "execution_count": 21,
   "id": "c51073f2",
   "metadata": {},
   "outputs": [
    {
     "data": {
      "image/png": "[encoded data removed]",
      "text/plain": [
       "<Figure size 432x288 with 1 Axes>"
      ]
     },
     "metadata": {
      "needs_background": "light"
     },
     "output_type": "display_data"
    }
   ],
   "source": [
    "CPlot(data.columns[12])"
   ]
  },
  {
   "cell_type": "markdown",
   "id": "17ace1bf",
   "metadata": {},
   "source": [
    "# Stalk-Surface-below-ring"
   ]
  },
  {
   "cell_type": "code",
   "execution_count": 22,
   "id": "4088070f",
   "metadata": {},
   "outputs": [
    {
     "data": {
      "image/png": "[encoded data removed]",
      "text/plain": [
       "<Figure size 432x288 with 1 Axes>"
      ]
     },
     "metadata": {
      "needs_background": "light"
     },
     "output_type": "display_data"
    }
   ],
   "source": [
    "CPlot(data.columns[13])"
   ]
  },
  {
   "cell_type": "markdown",
   "id": "c33d249e",
   "metadata": {},
   "source": [
    "# Stalk-color-above-ring"
   ]
  },
  {
   "cell_type": "code",
   "execution_count": 23,
   "id": "56329918",
   "metadata": {},
   "outputs": [
    {
     "data": {
      "image/png": "[encoded data removed]",
      "text/plain": [
       "<Figure size 432x288 with 1 Axes>"
      ]
     },
     "metadata": {
      "needs_background": "light"
     },
     "output_type": "display_data"
    }
   ],
   "source": [
    "CPlot(data.columns[14])"
   ]
  },
  {
   "cell_type": "markdown",
   "id": "b6b5dd1b",
   "metadata": {},
   "source": [
    "# Stalk-color-below-ring"
   ]
  },
  {
   "cell_type": "code",
   "execution_count": 24,
   "id": "cc0dfbfa",
   "metadata": {},
   "outputs": [
    {
     "data": {
      "image/png": "[encoded data removed]",
      "text/plain": [
       "<Figure size 432x288 with 1 Axes>"
      ]
     },
     "metadata": {
      "needs_background": "light"
     },
     "output_type": "display_data"
    }
   ],
   "source": [
    "CPlot(data.columns[15])"
   ]
  },
  {
   "cell_type": "markdown",
   "id": "8dc24a6f",
   "metadata": {},
   "source": [
    "# Veil type"
   ]
  },
  {
   "cell_type": "code",
   "execution_count": 25,
   "id": "71cc5333",
   "metadata": {},
   "outputs": [
    {
     "data": {
      "image/png": "[encoded data removed]",
      "text/plain": [
       "<Figure size 432x288 with 1 Axes>"
      ]
     },
     "metadata": {
      "needs_background": "light"
     },
     "output_type": "display_data"
    }
   ],
   "source": [
    "CPlot(data.columns[16])"
   ]
  },
  {
   "cell_type": "markdown",
   "id": "41b9b99d",
   "metadata": {},
   "source": [
    "# Veil-color"
   ]
  },
  {
   "cell_type": "code",
   "execution_count": 26,
   "id": "1bcf625f",
   "metadata": {},
   "outputs": [
    {
     "data": {
      "image/png": "[encoded data removed]",
      "text/plain": [
       "<Figure size 432x288 with 1 Axes>"
      ]
     },
     "metadata": {
      "needs_background": "light"
     },
     "output_type": "display_data"
    }
   ],
   "source": [
    "CPlot(data.columns[17])"
   ]
  },
  {
   "cell_type": "markdown",
   "id": "2023f78c",
   "metadata": {},
   "source": [
    "# Ring Number"
   ]
  },
  {
   "cell_type": "code",
   "execution_count": 27,
   "id": "0b0ff9ec",
   "metadata": {},
   "outputs": [
    {
     "data": {
      "image/png": "[encoded data removed]",
      "text/plain": [
       "<Figure size 432x288 with 1 Axes>"
      ]
     },
     "metadata": {
      "needs_background": "light"
     },
     "output_type": "display_data"
    }
   ],
   "source": [
    "CPlot(data.columns[18])"
   ]
  },
  {
   "cell_type": "markdown",
   "id": "dc15445b",
   "metadata": {},
   "source": [
    "# Ring type"
   ]
  },
  {
   "cell_type": "code",
   "execution_count": 28,
   "id": "781acd36",
   "metadata": {},
   "outputs": [
    {
     "data": {
      "image/png": "[encoded data removed]",
      "text/plain": [
       "<Figure size 432x288 with 1 Axes>"
      ]
     },
     "metadata": {
      "needs_background": "light"
     },
     "output_type": "display_data"
    }
   ],
   "source": [
    "CPlot(data.columns[19])"
   ]
  },
  {
   "cell_type": "markdown",
   "id": "40dcffe2",
   "metadata": {},
   "source": [
    "# Spore-print-color"
   ]
  },
  {
   "cell_type": "code",
   "execution_count": 29,
   "id": "4ba6234e",
   "metadata": {},
   "outputs": [
    {
     "data": {
      "image/png": "[encoded data removed]",
      "text/plain": [
       "<Figure size 432x288 with 1 Axes>"
      ]
     },
     "metadata": {
      "needs_background": "light"
     },
     "output_type": "display_data"
    }
   ],
   "source": [
    "CPlot(data.columns[20])"
   ]
  },
  {
   "cell_type": "markdown",
   "id": "f3a459a2",
   "metadata": {},
   "source": [
    "# Population"
   ]
  },
  {
   "cell_type": "code",
   "execution_count": 30,
   "id": "6d71910d",
   "metadata": {},
   "outputs": [
    {
     "data": {
      "image/png": "[encoded data removed]",
      "text/plain": [
       "<Figure size 432x288 with 1 Axes>"
      ]
     },
     "metadata": {
      "needs_background": "light"
     },
     "output_type": "display_data"
    }
   ],
   "source": [
    "CPlot(data.columns[21])"
   ]
  },
  {
   "cell_type": "markdown",
   "id": "de0fb8e0",
   "metadata": {},
   "source": [
    "# Label Encoding"
   ]
  },
  {
   "cell_type": "code",
   "execution_count": 31,
   "id": "9afed78e",
   "metadata": {},
   "outputs": [],
   "source": [
    "Le=LabelEncoder()\n",
    "data['class']=Le.fit_transform(data['class'])"
   ]
  },
  {
   "cell_type": "markdown",
   "id": "c6d2d611",
   "metadata": {},
   "source": [
    "# Data Selection"
   ]
  },
  {
   "cell_type": "code",
   "execution_count": 32,
   "id": "ed0fb9d2",
   "metadata": {},
   "outputs": [],
   "source": [
    "colX=['cap-color',  'bruises', 'odor', 'gill-size',\n",
    "          'gill-color', 'stalk-shape', 'stalk-root', 'veil-color',\n",
    "          'ring-type', 'spore-print-color', 'population', 'habitat'\n",
    "        ]"
   ]
  },
  {
   "cell_type": "code",
   "execution_count": 33,
   "id": "dc08ed61",
   "metadata": {},
   "outputs": [],
   "source": [
    "X=data.loc[:,colX]\n",
    "Y=data.iloc[:,0]"
   ]
  },
  {
   "cell_type": "code",
   "execution_count": 34,
   "id": "c8d0eb6a",
   "metadata": {},
   "outputs": [
    {
     "data": {
      "text/plain": [
       "(8124, 12)"
      ]
     },
     "execution_count": 34,
     "metadata": {},
     "output_type": "execute_result"
    }
   ],
   "source": [
    "X.shape"
   ]
  },
  {
   "cell_type": "code",
   "execution_count": 35,
   "id": "7cf6899f",
   "metadata": {},
   "outputs": [
    {
     "data": {
      "text/html": [
       "<div>\n",
       "<style scoped>\n",
       "    .dataframe tbody tr th:only-of-type {\n",
       "        vertical-align: middle;\n",
       "    }\n",
       "\n",
       "    .dataframe tbody tr th {\n",
       "        vertical-align: top;\n",
       "    }\n",
       "\n",
       "    .dataframe thead th {\n",
       "        text-align: right;\n",
       "    }\n",
       "</style>\n",
       "<table border=\"1\" class=\"dataframe\">\n",
       "  <thead>\n",
       "    <tr style=\"text-align: right;\">\n",
       "      <th></th>\n",
       "      <th>cap-color</th>\n",
       "      <th>bruises</th>\n",
       "      <th>odor</th>\n",
       "      <th>gill-size</th>\n",
       "      <th>gill-color</th>\n",
       "      <th>stalk-shape</th>\n",
       "      <th>stalk-root</th>\n",
       "      <th>veil-color</th>\n",
       "      <th>ring-type</th>\n",
       "      <th>spore-print-color</th>\n",
       "      <th>population</th>\n",
       "      <th>habitat</th>\n",
       "    </tr>\n",
       "  </thead>\n",
       "  <tbody>\n",
       "    <tr>\n",
       "      <th>0</th>\n",
       "      <td>n</td>\n",
       "      <td>t</td>\n",
       "      <td>p</td>\n",
       "      <td>n</td>\n",
       "      <td>k</td>\n",
       "      <td>e</td>\n",
       "      <td>e</td>\n",
       "      <td>w</td>\n",
       "      <td>p</td>\n",
       "      <td>k</td>\n",
       "      <td>s</td>\n",
       "      <td>u</td>\n",
       "    </tr>\n",
       "    <tr>\n",
       "      <th>1</th>\n",
       "      <td>y</td>\n",
       "      <td>t</td>\n",
       "      <td>a</td>\n",
       "      <td>b</td>\n",
       "      <td>k</td>\n",
       "      <td>e</td>\n",
       "      <td>c</td>\n",
       "      <td>w</td>\n",
       "      <td>p</td>\n",
       "      <td>n</td>\n",
       "      <td>n</td>\n",
       "      <td>g</td>\n",
       "    </tr>\n",
       "    <tr>\n",
       "      <th>2</th>\n",
       "      <td>w</td>\n",
       "      <td>t</td>\n",
       "      <td>l</td>\n",
       "      <td>b</td>\n",
       "      <td>n</td>\n",
       "      <td>e</td>\n",
       "      <td>c</td>\n",
       "      <td>w</td>\n",
       "      <td>p</td>\n",
       "      <td>n</td>\n",
       "      <td>n</td>\n",
       "      <td>m</td>\n",
       "    </tr>\n",
       "    <tr>\n",
       "      <th>3</th>\n",
       "      <td>w</td>\n",
       "      <td>t</td>\n",
       "      <td>p</td>\n",
       "      <td>n</td>\n",
       "      <td>n</td>\n",
       "      <td>e</td>\n",
       "      <td>e</td>\n",
       "      <td>w</td>\n",
       "      <td>p</td>\n",
       "      <td>k</td>\n",
       "      <td>s</td>\n",
       "      <td>u</td>\n",
       "    </tr>\n",
       "    <tr>\n",
       "      <th>4</th>\n",
       "      <td>g</td>\n",
       "      <td>f</td>\n",
       "      <td>n</td>\n",
       "      <td>b</td>\n",
       "      <td>k</td>\n",
       "      <td>t</td>\n",
       "      <td>e</td>\n",
       "      <td>w</td>\n",
       "      <td>e</td>\n",
       "      <td>n</td>\n",
       "      <td>a</td>\n",
       "      <td>g</td>\n",
       "    </tr>\n",
       "  </tbody>\n",
       "</table>\n",
       "</div>"
      ],
      "text/plain": [
       "  cap-color bruises odor gill-size gill-color stalk-shape stalk-root  \\\n",
       "0         n       t    p         n          k           e          e   \n",
       "1         y       t    a         b          k           e          c   \n",
       "2         w       t    l         b          n           e          c   \n",
       "3         w       t    p         n          n           e          e   \n",
       "4         g       f    n         b          k           t          e   \n",
       "\n",
       "  veil-color ring-type spore-print-color population habitat  \n",
       "0          w         p                 k          s       u  \n",
       "1          w         p                 n          n       g  \n",
       "2          w         p                 n          n       m  \n",
       "3          w         p                 k          s       u  \n",
       "4          w         e                 n          a       g  "
      ]
     },
     "execution_count": 35,
     "metadata": {},
     "output_type": "execute_result"
    }
   ],
   "source": [
    "X.head()"
   ]
  },
  {
   "cell_type": "code",
   "execution_count": 36,
   "id": "92ef23ff",
   "metadata": {},
   "outputs": [
    {
     "data": {
      "text/plain": [
       "(8124,)"
      ]
     },
     "execution_count": 36,
     "metadata": {},
     "output_type": "execute_result"
    }
   ],
   "source": [
    "Y.shape"
   ]
  },
  {
   "cell_type": "markdown",
   "id": "01645558",
   "metadata": {},
   "source": [
    "# Split"
   ]
  },
  {
   "cell_type": "code",
   "execution_count": 37,
   "id": "0714d156",
   "metadata": {},
   "outputs": [],
   "source": [
    "from sklearn.model_selection import train_test_split\n",
    "X_train,X_test,y_train,y_test = train_test_split(X,Y,test_size=0.2)"
   ]
  },
  {
   "cell_type": "markdown",
   "id": "b249a7d7",
   "metadata": {},
   "source": [
    "# Using Col Transformers"
   ]
  },
  {
   "cell_type": "markdown",
   "id": "bd3da160",
   "metadata": {},
   "source": [
    "### Step 1: Ordinal encoding"
   ]
  },
  {
   "cell_type": "code",
   "execution_count": 38,
   "id": "ab98732c",
   "metadata": {},
   "outputs": [],
   "source": [
    "trf1 = ColumnTransformer([\n",
    "         (\"ordinal\", OrdinalEncoder(), \n",
    "         ['cap-color','bruises','odor','gill-size',\n",
    "          'gill-color', 'stalk-shape', 'stalk-root', 'veil-color',\n",
    "          'ring-type','spore-print-color', 'population', 'habitat'\n",
    "        ] )\n",
    "    ],remainder='passthrough')"
   ]
  },
  {
   "cell_type": "markdown",
   "id": "c9409839",
   "metadata": {},
   "source": [
    "### Step 2 : Feature selection Using SelectKBest"
   ]
  },
  {
   "cell_type": "code",
   "execution_count": 39,
   "id": "99c86f79",
   "metadata": {},
   "outputs": [],
   "source": [
    "trf2 = SelectKBest(score_func=chi2,k=6)"
   ]
  },
  {
   "cell_type": "markdown",
   "id": "eaa7f8c3",
   "metadata": {},
   "source": [
    "### Step 3: Model Training"
   ]
  },
  {
   "cell_type": "code",
   "execution_count": 40,
   "id": "9d44b53a",
   "metadata": {},
   "outputs": [],
   "source": [
    "trf3 = RandomForestClassifier()\n",
    "#trf3 = GaussianNB()\n",
    "#trf3 = MultinomialNB()\n",
    "#trf3 = BernoulliNB()\n",
    "#trf3=LogisticRegression()\n",
    "#trf3=SVC()"
   ]
  },
  {
   "cell_type": "code",
   "execution_count": 41,
   "id": "9d18b0bc",
   "metadata": {},
   "outputs": [],
   "source": [
    "# Display Pipeline\n",
    "from sklearn import set_config\n",
    "set_config(display='diagram')"
   ]
  },
  {
   "cell_type": "markdown",
   "id": "48fd4b41",
   "metadata": {},
   "source": [
    "# Creating Pipe"
   ]
  },
  {
   "cell_type": "code",
   "execution_count": 42,
   "id": "16144a59",
   "metadata": {},
   "outputs": [],
   "source": [
    "pipe = Pipeline([\n",
    "    ('trf1',trf1),\n",
    "    ('trf2',trf2),\n",
    "    ('trf3',trf3),\n",
    "])"
   ]
  },
  {
   "cell_type": "code",
   "execution_count": 43,
   "id": "6703b6e2",
   "metadata": {},
   "outputs": [
    {
     "data": {
      "text/html": [
       "<div>\n",
       "<style scoped>\n",
       "    .dataframe tbody tr th:only-of-type {\n",
       "        vertical-align: middle;\n",
       "    }\n",
       "\n",
       "    .dataframe tbody tr th {\n",
       "        vertical-align: top;\n",
       "    }\n",
       "\n",
       "    .dataframe thead th {\n",
       "        text-align: right;\n",
       "    }\n",
       "</style>\n",
       "<table border=\"1\" class=\"dataframe\">\n",
       "  <thead>\n",
       "    <tr style=\"text-align: right;\">\n",
       "      <th></th>\n",
       "      <th>cap-color</th>\n",
       "      <th>bruises</th>\n",
       "      <th>odor</th>\n",
       "      <th>gill-size</th>\n",
       "      <th>gill-color</th>\n",
       "      <th>stalk-shape</th>\n",
       "      <th>stalk-root</th>\n",
       "      <th>veil-color</th>\n",
       "      <th>ring-type</th>\n",
       "      <th>spore-print-color</th>\n",
       "      <th>population</th>\n",
       "      <th>habitat</th>\n",
       "    </tr>\n",
       "  </thead>\n",
       "  <tbody>\n",
       "    <tr>\n",
       "      <th>6057</th>\n",
       "      <td>n</td>\n",
       "      <td>f</td>\n",
       "      <td>y</td>\n",
       "      <td>n</td>\n",
       "      <td>b</td>\n",
       "      <td>t</td>\n",
       "      <td>?</td>\n",
       "      <td>w</td>\n",
       "      <td>e</td>\n",
       "      <td>w</td>\n",
       "      <td>v</td>\n",
       "      <td>p</td>\n",
       "    </tr>\n",
       "    <tr>\n",
       "      <th>3324</th>\n",
       "      <td>g</td>\n",
       "      <td>t</td>\n",
       "      <td>n</td>\n",
       "      <td>b</td>\n",
       "      <td>n</td>\n",
       "      <td>t</td>\n",
       "      <td>b</td>\n",
       "      <td>w</td>\n",
       "      <td>p</td>\n",
       "      <td>n</td>\n",
       "      <td>v</td>\n",
       "      <td>d</td>\n",
       "    </tr>\n",
       "    <tr>\n",
       "      <th>1294</th>\n",
       "      <td>w</td>\n",
       "      <td>t</td>\n",
       "      <td>p</td>\n",
       "      <td>n</td>\n",
       "      <td>p</td>\n",
       "      <td>e</td>\n",
       "      <td>e</td>\n",
       "      <td>w</td>\n",
       "      <td>p</td>\n",
       "      <td>k</td>\n",
       "      <td>v</td>\n",
       "      <td>g</td>\n",
       "    </tr>\n",
       "    <tr>\n",
       "      <th>5359</th>\n",
       "      <td>y</td>\n",
       "      <td>f</td>\n",
       "      <td>f</td>\n",
       "      <td>b</td>\n",
       "      <td>h</td>\n",
       "      <td>e</td>\n",
       "      <td>b</td>\n",
       "      <td>w</td>\n",
       "      <td>l</td>\n",
       "      <td>h</td>\n",
       "      <td>y</td>\n",
       "      <td>p</td>\n",
       "    </tr>\n",
       "    <tr>\n",
       "      <th>3450</th>\n",
       "      <td>e</td>\n",
       "      <td>t</td>\n",
       "      <td>n</td>\n",
       "      <td>b</td>\n",
       "      <td>u</td>\n",
       "      <td>t</td>\n",
       "      <td>b</td>\n",
       "      <td>w</td>\n",
       "      <td>p</td>\n",
       "      <td>k</td>\n",
       "      <td>y</td>\n",
       "      <td>d</td>\n",
       "    </tr>\n",
       "    <tr>\n",
       "      <th>...</th>\n",
       "      <td>...</td>\n",
       "      <td>...</td>\n",
       "      <td>...</td>\n",
       "      <td>...</td>\n",
       "      <td>...</td>\n",
       "      <td>...</td>\n",
       "      <td>...</td>\n",
       "      <td>...</td>\n",
       "      <td>...</td>\n",
       "      <td>...</td>\n",
       "      <td>...</td>\n",
       "      <td>...</td>\n",
       "    </tr>\n",
       "    <tr>\n",
       "      <th>4831</th>\n",
       "      <td>e</td>\n",
       "      <td>t</td>\n",
       "      <td>n</td>\n",
       "      <td>b</td>\n",
       "      <td>e</td>\n",
       "      <td>e</td>\n",
       "      <td>?</td>\n",
       "      <td>w</td>\n",
       "      <td>e</td>\n",
       "      <td>w</td>\n",
       "      <td>c</td>\n",
       "      <td>w</td>\n",
       "    </tr>\n",
       "    <tr>\n",
       "      <th>7840</th>\n",
       "      <td>n</td>\n",
       "      <td>f</td>\n",
       "      <td>n</td>\n",
       "      <td>b</td>\n",
       "      <td>n</td>\n",
       "      <td>e</td>\n",
       "      <td>?</td>\n",
       "      <td>o</td>\n",
       "      <td>p</td>\n",
       "      <td>b</td>\n",
       "      <td>v</td>\n",
       "      <td>l</td>\n",
       "    </tr>\n",
       "    <tr>\n",
       "      <th>4615</th>\n",
       "      <td>y</td>\n",
       "      <td>f</td>\n",
       "      <td>f</td>\n",
       "      <td>b</td>\n",
       "      <td>p</td>\n",
       "      <td>e</td>\n",
       "      <td>b</td>\n",
       "      <td>w</td>\n",
       "      <td>l</td>\n",
       "      <td>h</td>\n",
       "      <td>y</td>\n",
       "      <td>d</td>\n",
       "    </tr>\n",
       "    <tr>\n",
       "      <th>6104</th>\n",
       "      <td>n</td>\n",
       "      <td>f</td>\n",
       "      <td>y</td>\n",
       "      <td>n</td>\n",
       "      <td>b</td>\n",
       "      <td>t</td>\n",
       "      <td>?</td>\n",
       "      <td>w</td>\n",
       "      <td>e</td>\n",
       "      <td>w</td>\n",
       "      <td>v</td>\n",
       "      <td>d</td>\n",
       "    </tr>\n",
       "    <tr>\n",
       "      <th>5340</th>\n",
       "      <td>p</td>\n",
       "      <td>t</td>\n",
       "      <td>n</td>\n",
       "      <td>b</td>\n",
       "      <td>e</td>\n",
       "      <td>e</td>\n",
       "      <td>?</td>\n",
       "      <td>w</td>\n",
       "      <td>e</td>\n",
       "      <td>w</td>\n",
       "      <td>c</td>\n",
       "      <td>w</td>\n",
       "    </tr>\n",
       "  </tbody>\n",
       "</table>\n",
       "<p>6499 rows × 12 columns</p>\n",
       "</div>"
      ],
      "text/plain": [
       "     cap-color bruises odor gill-size gill-color stalk-shape stalk-root  \\\n",
       "6057         n       f    y         n          b           t          ?   \n",
       "3324         g       t    n         b          n           t          b   \n",
       "1294         w       t    p         n          p           e          e   \n",
       "5359         y       f    f         b          h           e          b   \n",
       "3450         e       t    n         b          u           t          b   \n",
       "...        ...     ...  ...       ...        ...         ...        ...   \n",
       "4831         e       t    n         b          e           e          ?   \n",
       "7840         n       f    n         b          n           e          ?   \n",
       "4615         y       f    f         b          p           e          b   \n",
       "6104         n       f    y         n          b           t          ?   \n",
       "5340         p       t    n         b          e           e          ?   \n",
       "\n",
       "     veil-color ring-type spore-print-color population habitat  \n",
       "6057          w         e                 w          v       p  \n",
       "3324          w         p                 n          v       d  \n",
       "1294          w         p                 k          v       g  \n",
       "5359          w         l                 h          y       p  \n",
       "3450          w         p                 k          y       d  \n",
       "...         ...       ...               ...        ...     ...  \n",
       "4831          w         e                 w          c       w  \n",
       "7840          o         p                 b          v       l  \n",
       "4615          w         l                 h          y       d  \n",
       "6104          w         e                 w          v       d  \n",
       "5340          w         e                 w          c       w  \n",
       "\n",
       "[6499 rows x 12 columns]"
      ]
     },
     "execution_count": 43,
     "metadata": {},
     "output_type": "execute_result"
    }
   ],
   "source": [
    "X_train"
   ]
  },
  {
   "cell_type": "code",
   "execution_count": 44,
   "id": "605e9092",
   "metadata": {},
   "outputs": [
    {
     "data": {
      "text/html": [
       "<style>#sk-c13bb28c-7762-4972-b070-11e05d5cf093 {color: black;background-color: white;}#sk-c13bb28c-7762-4972-b070-11e05d5cf093 pre{padding: 0;}#sk-c13bb28c-7762-4972-b070-11e05d5cf093 div.sk-toggleable {background-color: white;}#sk-c13bb28c-7762-4972-b070-11e05d5cf093 label.sk-toggleable__label {cursor: pointer;display: block;width: 100%;margin-bottom: 0;padding: 0.2em 0.3em;box-sizing: border-box;text-align: center;}#sk-c13bb28c-7762-4972-b070-11e05d5cf093 div.sk-toggleable__content {max-height: 0;max-width: 0;overflow: hidden;text-align: left;background-color: #f0f8ff;}#sk-c13bb28c-7762-4972-b070-11e05d5cf093 div.sk-toggleable__content pre {margin: 0.2em;color: black;border-radius: 0.25em;background-color: #f0f8ff;}#sk-c13bb28c-7762-4972-b070-11e05d5cf093 input.sk-toggleable__control:checked~div.sk-toggleable__content {max-height: 200px;max-width: 100%;overflow: auto;}#sk-c13bb28c-7762-4972-b070-11e05d5cf093 div.sk-estimator input.sk-toggleable__control:checked~label.sk-toggleable__label {background-color: #d4ebff;}#sk-c13bb28c-7762-4972-b070-11e05d5cf093 div.sk-label input.sk-toggleable__control:checked~label.sk-toggleable__label {background-color: #d4ebff;}#sk-c13bb28c-7762-4972-b070-11e05d5cf093 input.sk-hidden--visually {border: 0;clip: rect(1px 1px 1px 1px);clip: rect(1px, 1px, 1px, 1px);height: 1px;margin: -1px;overflow: hidden;padding: 0;position: absolute;width: 1px;}#sk-c13bb28c-7762-4972-b070-11e05d5cf093 div.sk-estimator {font-family: monospace;background-color: #f0f8ff;margin: 0.25em 0.25em;border: 1px dotted black;border-radius: 0.25em;box-sizing: border-box;}#sk-c13bb28c-7762-4972-b070-11e05d5cf093 div.sk-estimator:hover {background-color: #d4ebff;}#sk-c13bb28c-7762-4972-b070-11e05d5cf093 div.sk-parallel-item::after {content: \"\";width: 100%;border-bottom: 1px solid gray;flex-grow: 1;}#sk-c13bb28c-7762-4972-b070-11e05d5cf093 div.sk-label:hover label.sk-toggleable__label {background-color: #d4ebff;}#sk-c13bb28c-7762-4972-b070-11e05d5cf093 div.sk-serial::before {content: \"\";position: absolute;border-left: 1px solid gray;box-sizing: border-box;top: 2em;bottom: 0;left: 50%;}#sk-c13bb28c-7762-4972-b070-11e05d5cf093 div.sk-serial {display: flex;flex-direction: column;align-items: center;background-color: white;}#sk-c13bb28c-7762-4972-b070-11e05d5cf093 div.sk-item {z-index: 1;}#sk-c13bb28c-7762-4972-b070-11e05d5cf093 div.sk-parallel {display: flex;align-items: stretch;justify-content: center;background-color: white;}#sk-c13bb28c-7762-4972-b070-11e05d5cf093 div.sk-parallel-item {display: flex;flex-direction: column;position: relative;background-color: white;}#sk-c13bb28c-7762-4972-b070-11e05d5cf093 div.sk-parallel-item:first-child::after {align-self: flex-end;width: 50%;}#sk-c13bb28c-7762-4972-b070-11e05d5cf093 div.sk-parallel-item:last-child::after {align-self: flex-start;width: 50%;}#sk-c13bb28c-7762-4972-b070-11e05d5cf093 div.sk-parallel-item:only-child::after {width: 0;}#sk-c13bb28c-7762-4972-b070-11e05d5cf093 div.sk-dashed-wrapped {border: 1px dashed gray;margin: 0.2em;box-sizing: border-box;padding-bottom: 0.1em;background-color: white;position: relative;}#sk-c13bb28c-7762-4972-b070-11e05d5cf093 div.sk-label label {font-family: monospace;font-weight: bold;background-color: white;display: inline-block;line-height: 1.2em;}#sk-c13bb28c-7762-4972-b070-11e05d5cf093 div.sk-label-container {position: relative;z-index: 2;text-align: center;}#sk-c13bb28c-7762-4972-b070-11e05d5cf093 div.sk-container {display: inline-block;position: relative;}</style><div id=\"sk-c13bb28c-7762-4972-b070-11e05d5cf093\" class\"sk-top-container\"><div class=\"sk-container\"><div class=\"sk-item sk-dashed-wrapped\"><div class=\"sk-label-container\"><div class=\"sk-label sk-toggleable\"><input class=\"sk-toggleable__control sk-hidden--visually\" id=\"3bbec239-677e-4462-bc95-f888961c42fd\" type=\"checkbox\" ><label class=\"sk-toggleable__label\" for=\"3bbec239-677e-4462-bc95-f888961c42fd\">Pipeline</label><div class=\"sk-toggleable__content\"><pre>Pipeline(steps=[('trf1',\n",
       "                 ColumnTransformer(remainder='passthrough',\n",
       "                                   transformers=[('ordinal', OrdinalEncoder(),\n",
       "                                                  ['cap-color', 'bruises',\n",
       "                                                   'odor', 'gill-size',\n",
       "                                                   'gill-color', 'stalk-shape',\n",
       "                                                   'stalk-root', 'veil-color',\n",
       "                                                   'ring-type',\n",
       "                                                   'spore-print-color',\n",
       "                                                   'population',\n",
       "                                                   'habitat'])])),\n",
       "                ('trf2',\n",
       "                 SelectKBest(k=6,\n",
       "                             score_func=<function chi2 at 0x000002363DB788B0>)),\n",
       "                ('trf3', RandomForestClassifier())])</pre></div></div></div><div class=\"sk-serial\"><div class=\"sk-item sk-dashed-wrapped\"><div class=\"sk-label-container\"><div class=\"sk-label sk-toggleable\"><input class=\"sk-toggleable__control sk-hidden--visually\" id=\"80b3767c-2f8b-41ae-a0c3-da9a501d0941\" type=\"checkbox\" ><label class=\"sk-toggleable__label\" for=\"80b3767c-2f8b-41ae-a0c3-da9a501d0941\">trf1: ColumnTransformer</label><div class=\"sk-toggleable__content\"><pre>ColumnTransformer(remainder='passthrough',\n",
       "                  transformers=[('ordinal', OrdinalEncoder(),\n",
       "                                 ['cap-color', 'bruises', 'odor', 'gill-size',\n",
       "                                  'gill-color', 'stalk-shape', 'stalk-root',\n",
       "                                  'veil-color', 'ring-type',\n",
       "                                  'spore-print-color', 'population',\n",
       "                                  'habitat'])])</pre></div></div></div><div class=\"sk-parallel\"><div class=\"sk-parallel-item\"><div class=\"sk-item\"><div class=\"sk-label-container\"><div class=\"sk-label sk-toggleable\"><input class=\"sk-toggleable__control sk-hidden--visually\" id=\"921a55d9-308a-4289-9556-12e4232375b4\" type=\"checkbox\" ><label class=\"sk-toggleable__label\" for=\"921a55d9-308a-4289-9556-12e4232375b4\">ordinal</label><div class=\"sk-toggleable__content\"><pre>['cap-color', 'bruises', 'odor', 'gill-size', 'gill-color', 'stalk-shape', 'stalk-root', 'veil-color', 'ring-type', 'spore-print-color', 'population', 'habitat']</pre></div></div></div><div class=\"sk-serial\"><div class=\"sk-item\"><div class=\"sk-estimator sk-toggleable\"><input class=\"sk-toggleable__control sk-hidden--visually\" id=\"d7410a5e-79d1-430c-86bb-403e5822b873\" type=\"checkbox\" ><label class=\"sk-toggleable__label\" for=\"d7410a5e-79d1-430c-86bb-403e5822b873\">OrdinalEncoder</label><div class=\"sk-toggleable__content\"><pre>OrdinalEncoder()</pre></div></div></div></div></div></div><div class=\"sk-parallel-item\"><div class=\"sk-item\"><div class=\"sk-label-container\"><div class=\"sk-label sk-toggleable\"><input class=\"sk-toggleable__control sk-hidden--visually\" id=\"82be8016-7d77-4625-85ab-eb032509ac60\" type=\"checkbox\" ><label class=\"sk-toggleable__label\" for=\"82be8016-7d77-4625-85ab-eb032509ac60\">remainder</label><div class=\"sk-toggleable__content\"><pre>[['cap-color', 'bruises', 'odor', 'gill-size', 'gill-color', 'stalk-shape', 'stalk-root', 'veil-color', 'ring-type', 'spore-print-color', 'population', 'habitat']]</pre></div></div></div><div class=\"sk-serial\"><div class=\"sk-item\"><div class=\"sk-estimator sk-toggleable\"><input class=\"sk-toggleable__control sk-hidden--visually\" id=\"1ba59f4f-017c-466e-b033-175cc7a4adf5\" type=\"checkbox\" ><label class=\"sk-toggleable__label\" for=\"1ba59f4f-017c-466e-b033-175cc7a4adf5\">passthrough</label><div class=\"sk-toggleable__content\"><pre>passthrough</pre></div></div></div></div></div></div></div></div><div class=\"sk-item\"><div class=\"sk-estimator sk-toggleable\"><input class=\"sk-toggleable__control sk-hidden--visually\" id=\"ff25fdb1-e9e3-4ebb-a48a-d7cd194c7076\" type=\"checkbox\" ><label class=\"sk-toggleable__label\" for=\"ff25fdb1-e9e3-4ebb-a48a-d7cd194c7076\">SelectKBest</label><div class=\"sk-toggleable__content\"><pre>SelectKBest(k=6, score_func=<function chi2 at 0x000002363DB788B0>)</pre></div></div></div><div class=\"sk-item\"><div class=\"sk-estimator sk-toggleable\"><input class=\"sk-toggleable__control sk-hidden--visually\" id=\"66d956ef-69b4-4095-b97d-1f8eefac8f37\" type=\"checkbox\" ><label class=\"sk-toggleable__label\" for=\"66d956ef-69b4-4095-b97d-1f8eefac8f37\">RandomForestClassifier</label><div class=\"sk-toggleable__content\"><pre>RandomForestClassifier()</pre></div></div></div></div></div></div></div>"
      ],
      "text/plain": [
       "Pipeline(steps=[('trf1',\n",
       "                 ColumnTransformer(remainder='passthrough',\n",
       "                                   transformers=[('ordinal', OrdinalEncoder(),\n",
       "                                                  ['cap-color', 'bruises',\n",
       "                                                   'odor', 'gill-size',\n",
       "                                                   'gill-color', 'stalk-shape',\n",
       "                                                   'stalk-root', 'veil-color',\n",
       "                                                   'ring-type',\n",
       "                                                   'spore-print-color',\n",
       "                                                   'population',\n",
       "                                                   'habitat'])])),\n",
       "                ('trf2',\n",
       "                 SelectKBest(k=6,\n",
       "                             score_func=<function chi2 at 0x000002363DB788B0>)),\n",
       "                ('trf3', RandomForestClassifier())])"
      ]
     },
     "execution_count": 44,
     "metadata": {},
     "output_type": "execute_result"
    }
   ],
   "source": [
    "# train\n",
    "pipe.fit(X_train,y_train)"
   ]
  },
  {
   "cell_type": "markdown",
   "id": "e9497983",
   "metadata": {},
   "source": [
    "# Pipe analysis"
   ]
  },
  {
   "cell_type": "code",
   "execution_count": 45,
   "id": "5f26b508",
   "metadata": {},
   "outputs": [],
   "source": [
    "cols = pipe.named_steps.trf2.get_support(indices=True)"
   ]
  },
  {
   "cell_type": "code",
   "execution_count": 46,
   "id": "0ccdfa57",
   "metadata": {},
   "outputs": [],
   "source": [
    "new_features = X_train.columns[cols]"
   ]
  },
  {
   "cell_type": "code",
   "execution_count": 47,
   "id": "630834ae",
   "metadata": {},
   "outputs": [
    {
     "data": {
      "text/plain": [
       "Index(['bruises', 'gill-size', 'gill-color', 'stalk-root', 'ring-type',\n",
       "       'habitat'],\n",
       "      dtype='object')"
      ]
     },
     "execution_count": 47,
     "metadata": {},
     "output_type": "execute_result"
    }
   ],
   "source": [
    "new_features"
   ]
  },
  {
   "cell_type": "code",
   "execution_count": 48,
   "id": "508dbc4c",
   "metadata": {},
   "outputs": [],
   "source": [
    "FIN=pipe.named_steps.trf3.feature_importances_"
   ]
  },
  {
   "cell_type": "markdown",
   "id": "42674a5a",
   "metadata": {},
   "source": [
    "# Feature Importance"
   ]
  },
  {
   "cell_type": "code",
   "execution_count": 49,
   "id": "207aa43a",
   "metadata": {},
   "outputs": [
    {
     "data": {
      "image/png": "[encoded data removed]",
      "text/plain": [
       "<Figure size 576x288 with 1 Axes>"
      ]
     },
     "metadata": {
      "needs_background": "light"
     },
     "output_type": "display_data"
    }
   ],
   "source": [
    "plt.figure(figsize = (8,4))\n",
    "ax = sns.barplot(x = new_features, y =FIN)\n",
    "plt.xticks(rotation=45)\n",
    "plt.show()"
   ]
  },
  {
   "cell_type": "markdown",
   "id": "347aa456",
   "metadata": {},
   "source": [
    "# Prediction"
   ]
  },
  {
   "cell_type": "code",
   "execution_count": 50,
   "id": "b95204ad",
   "metadata": {},
   "outputs": [],
   "source": [
    "prediction = pipe.predict(X_test)"
   ]
  },
  {
   "cell_type": "code",
   "execution_count": 51,
   "id": "d35e644d",
   "metadata": {},
   "outputs": [
    {
     "data": {
      "text/plain": [
       "array([1, 0, 0, ..., 0, 1, 1])"
      ]
     },
     "execution_count": 51,
     "metadata": {},
     "output_type": "execute_result"
    }
   ],
   "source": [
    "prediction"
   ]
  },
  {
   "cell_type": "markdown",
   "id": "4234fd4f",
   "metadata": {},
   "source": [
    "# Accuracy"
   ]
  },
  {
   "cell_type": "code",
   "execution_count": 52,
   "id": "7dfc89cb",
   "metadata": {},
   "outputs": [
    {
     "data": {
      "text/plain": [
       "1.0"
      ]
     },
     "execution_count": 52,
     "metadata": {},
     "output_type": "execute_result"
    }
   ],
   "source": [
    "from sklearn.metrics import accuracy_score\n",
    "accuracy_score(y_test,prediction)"
   ]
  },
  {
   "cell_type": "markdown",
   "id": "90d5e5b7",
   "metadata": {},
   "source": [
    "# Precision recall"
   ]
  },
  {
   "cell_type": "code",
   "execution_count": 53,
   "id": "26e1a6e7",
   "metadata": {},
   "outputs": [
    {
     "name": "stdout",
     "output_type": "stream",
     "text": [
      "Accuracy: 1.0\n",
      "F1 score: 1.0\n",
      "Recall: 1.0\n",
      "Precision: 1.0\n",
      "\n",
      " clasification report:\n",
      "               precision    recall  f1-score   support\n",
      "\n",
      "           0       1.00      1.00      1.00       827\n",
      "           1       1.00      1.00      1.00       798\n",
      "\n",
      "    accuracy                           1.00      1625\n",
      "   macro avg       1.00      1.00      1.00      1625\n",
      "weighted avg       1.00      1.00      1.00      1625\n",
      "\n",
      "\n",
      " confussion matrix:\n",
      " [[827   0]\n",
      " [  0 798]]\n"
     ]
    }
   ],
   "source": [
    "from sklearn.metrics import precision_score,recall_score, confusion_matrix, classification_report,accuracy_score, f1_score\n",
    "print('Accuracy:', accuracy_score(y_test, prediction))\n",
    "print('F1 score:', f1_score(y_test, prediction))\n",
    "print('Recall:', recall_score(y_test, prediction))\n",
    "print('Precision:', precision_score(y_test, prediction))\n",
    "print('\\n clasification report:\\n', classification_report(y_test,prediction))\n",
    "print('\\n confussion matrix:\\n',confusion_matrix(y_test, prediction))"
   ]
  },
  {
   "cell_type": "markdown",
   "id": "c64ffbd5",
   "metadata": {},
   "source": [
    "# Cross Validation using Pipeline"
   ]
  },
  {
   "cell_type": "code",
   "execution_count": 54,
   "id": "63e1cbd6",
   "metadata": {},
   "outputs": [
    {
     "data": {
      "text/plain": [
       "1.0"
      ]
     },
     "execution_count": 54,
     "metadata": {},
     "output_type": "execute_result"
    }
   ],
   "source": [
    "# cross validation using cross_val_score\n",
    "from sklearn.model_selection import cross_val_score\n",
    "cross_val_score(pipe, X_train, y_train, cv=5, scoring='accuracy').mean()"
   ]
  },
  {
   "cell_type": "markdown",
   "id": "91f90dc8",
   "metadata": {},
   "source": [
    "# Custom Prediction"
   ]
  },
  {
   "cell_type": "code",
   "execution_count": 60,
   "id": "69d53b14",
   "metadata": {},
   "outputs": [],
   "source": [
    "j=X_train.iloc[0,:]"
   ]
  },
  {
   "cell_type": "code",
   "execution_count": 112,
   "id": "f046015d",
   "metadata": {},
   "outputs": [
    {
     "data": {
      "text/plain": [
       "['n', 'f', 'y', 'n', 'b', 't', '?', 'w', 'e', 'w', 'v', 'p']"
      ]
     },
     "execution_count": 112,
     "metadata": {},
     "output_type": "execute_result"
    }
   ],
   "source": [
    "#I am going to use this value as a custom data in prediction\n",
    "j.values.tolist()"
   ]
  },
  {
   "cell_type": "code",
   "execution_count": 62,
   "id": "fc752ffe",
   "metadata": {},
   "outputs": [
    {
     "data": {
      "text/plain": [
       "array([1])"
      ]
     },
     "execution_count": 62,
     "metadata": {},
     "output_type": "execute_result"
    }
   ],
   "source": [
    "#Match this Output with Predict.ipynb for Happiness\n",
    "pipe.predict(X_train[0:1])"
   ]
  },
  {
   "cell_type": "markdown",
   "id": "fff4a324",
   "metadata": {},
   "source": [
    "# Exporting the Pipeline"
   ]
  },
  {
   "cell_type": "code",
   "execution_count": null,
   "id": "4da11a9a",
   "metadata": {},
   "outputs": [],
   "source": [
    "# export \n",
    "import pickle\n",
    "pickle.dump(pipe,open('pipe.pkl','wb'))"
   ]
  },
  {
   "cell_type": "markdown",
   "id": "bfaefe0c",
   "metadata": {},
   "source": [
    "# Printing List for app.py"
   ]
  },
  {
   "cell_type": "code",
   "execution_count": 84,
   "id": "c230c6eb",
   "metadata": {},
   "outputs": [],
   "source": [
    "def findCL(Col_Name):\n",
    "    Col_Name=X_train[Col_Name].value_counts().index.tolist()\n",
    "    print(Col_Name)"
   ]
  },
  {
   "cell_type": "code",
   "execution_count": 95,
   "id": "c996d5ed",
   "metadata": {},
   "outputs": [],
   "source": [
    "LOL=X_train.columns.tolist()"
   ]
  },
  {
   "cell_type": "code",
   "execution_count": 116,
   "id": "d4dd4c89",
   "metadata": {},
   "outputs": [
    {
     "data": {
      "text/plain": [
       "['cap-color',\n",
       " 'bruises',\n",
       " 'odor',\n",
       " 'gill-size',\n",
       " 'gill-color',\n",
       " 'stalk-shape',\n",
       " 'stalk-root',\n",
       " 'veil-color',\n",
       " 'ring-type',\n",
       " 'spore-print-color',\n",
       " 'population',\n",
       " 'habitat']"
      ]
     },
     "execution_count": 116,
     "metadata": {},
     "output_type": "execute_result"
    }
   ],
   "source": [
    "LOL"
   ]
  },
  {
   "cell_type": "code",
   "execution_count": 110,
   "id": "088c4bf1",
   "metadata": {},
   "outputs": [
    {
     "name": "stdout",
     "output_type": "stream",
     "text": [
      "cap-color :\n",
      "['n', 'g', 'e', 'y', 'w', 'b', 'p', 'c', 'r', 'u']\n",
      "bruises :\n",
      "['f', 't']\n",
      "odor :\n",
      "['n', 'f', 'y', 's', 'l', 'a', 'p', 'c', 'm']\n",
      "gill-size :\n",
      "['b', 'n']\n",
      "gill-color :\n",
      "['b', 'p', 'w', 'n', 'g', 'h', 'u', 'k', 'e', 'y', 'o', 'r']\n",
      "stalk-shape :\n",
      "['t', 'e']\n",
      "stalk-root :\n",
      "['b', '?', 'e', 'c', 'r']\n",
      "veil-color :\n",
      "['w', 'o', 'n', 'y']\n",
      "ring-type :\n",
      "['p', 'e', 'l', 'f', 'n']\n",
      "spore-print-color :\n",
      "['w', 'n', 'k', 'h', 'r', 'b', 'o', 'u', 'y']\n",
      "population :\n",
      "['v', 'y', 's', 'n', 'a', 'c']\n",
      "habitat :\n",
      "['d', 'g', 'p', 'l', 'u', 'm', 'w']\n"
     ]
    }
   ],
   "source": [
    "for i in LOL:\n",
    "    print(i + ' :')\n",
    "    findCL(i)"
   ]
  }
 ],
 "metadata": {
  "kernelspec": {
   "display_name": "Python 3 (ipykernel)",
   "language": "python",
   "name": "python3"
  },
  "language_info": {
   "codemirror_mode": {
    "name": "ipython",
    "version": 3
   },
   "file_extension": ".py",
   "mimetype": "text/x-python",
   "name": "python",
   "nbconvert_exporter": "python",
   "pygments_lexer": "ipython3",
   "version": "3.9.7"
  }
 },
 "nbformat": 4,
 "nbformat_minor": 5
}
